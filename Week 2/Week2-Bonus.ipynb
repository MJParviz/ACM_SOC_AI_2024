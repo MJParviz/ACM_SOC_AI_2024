{
 "cells": [
  {
   "cell_type": "markdown",
   "id": "d9a3e7f9",
   "metadata": {
    "id": "d9a3e7f9"
   },
   "source": [
    "   \n",
    "<div style=\"background-image: linear-gradient(to left, rgb(255, 255, 255), rgb(138, 136, 136)); width: auto; margin: 10px;\">\n",
    "  <img src=\"https://upload.wikimedia.org/wikipedia/en/thumb/f/fd/University_of_Tehran_logo.svg/225px-University_of_Tehran_logo.svg.png\" width=100px width=auto style=\"padding:10px; vertical-align: center;\">\n",
    "\n",
    "</div>\n",
    "   \n",
    "<div   style:\"text-align: center; background-image: linear-gradient(to left, rgb(255, 255, 255), rgb( 219, 204, 245  ));width: 400px; height: 30px; \">\n",
    "<h1 style=\"font-family: Georgia; color: black; text-align: center; \">SOC AI Course </h1>\n",
    "\n",
    "</div>\n",
    "    <div   style:\"border: 3px solid green;text-align: center; \">\n",
    "<h1 style=\"font-family: Georgia; color: black; text-align: center; \">Week2- Bonus</h1>\n",
    "<h5 style=\"font-family: Georgia; color: black; text-align: center; \">Designer: <a href=\"mailto:mohammadamanlou2@gmail.com\">Mohammad Amanlou</a>, <a href=\"mailto:mzmousavi9@gmail.com\">Marziyeh Mousavi</a></h5>\n",
    "</div>\n",
    "\n",
    "\n",
    "\n",
    "   </html>"
   ]
  },
  {
   "cell_type": "markdown",
   "id": "b49f5f66",
   "metadata": {
    "id": "b49f5f66"
   },
   "source": [
    "## Introduction\n",
    "\n",
    "In this assignment, you will explore various loss functions and apply gradient descent methods to optimize these functions. The focus will be on the Diabetes dataset from the scikit-learn library, a well-known dataset in the machine learning community. This dataset consists of medical diagnostic measurements from numerous patients and is specifically designed to study diabetes progression. You will use these data points to predict the quantitative measure of disease progression one year after baseline, allowing you to practice regression analysis in a medical context.\n",
    "\n",
    "### Important Notes\n",
    "\n",
    "For this assignment, you are required to implement the functions in \"Part 1: Functions’ Implementation\" from scratch. The use of pre-built libraries such as PyTorch, TensorFlow, or similar for these specific tasks is prohibited.\n",
    "\n",
    "### Dataset Description\n",
    "\n",
    "The diabetes dataset consists of 442 instances with the following ten baseline variables:\n",
    "\n",
    "1. **Age**: Age in years\n",
    "2. **Sex**: Gender of the patient\n",
    "3. **Body Mass Index (BMI)**: A measure of body fat based on height and weight\n",
    "4. **Average Blood Pressure (BP)**: Mean blood pressure value\n",
    "5. **Six blood serum measurements**:\n",
    "   - **s1**: Total serum cholesterol (tc)\n",
    "   - **s2**: Low-density lipoproteins (ldl)\n",
    "   - **s3**: High-density lipoproteins (hdl)\n",
    "   - **s4**: Total cholesterol / HDL ratio (tch)\n",
    "   - **s5**: Possibly the logarithm of serum triglycerides level (ltg)\n",
    "   - **s6**: Blood sugar level (glu)\n",
    "\n",
    "The target variable is a quantitative measure of disease progression one year after baseline.\n",
    "\n",
    "### Warm-Up\n",
    "\n",
    "1. **Load the Diabetes Dataset**: Load the dataset provided by scikit-learn (scaled=False) or directly via a provided link.(https://www4.stat.ncsu.edu/~boos/var.select/diabetes.html)\n",
    "2. **Display the First Ten Rows**: This will help you understand the structure and values of the dataset.\n",
    "3. **Check Data Types**: Print the data types of each feature to ensure they are numeric, which is necessary for regression analysis.\n",
    "4. **Handle Missing Values**: Check for any missing values in the dataset and handle them appropriately if any exist.\n",
    "5. **Normalize the Features**: Normalize the features to ensure all are on a similar scale, which helps in improving the performance of the regression model.\n",
    "6. **Split the Data**: Split the data into training and testing sets using a standard ratio (e.g., 95% training, 5% testing). Use sklearn's `train_test_split` function or an equivalent method ensuring a random split.\n",
    "7. **Confirm the Split**: Display the number of instances in both the training and testing datasets to confirm the split.\n",
    "\n",
    "### Main Task\n",
    "\n",
    "#### Part 1: Functions’ Implementation\n",
    "\n",
    "Implement the following functions from scratch:\n",
    "\n",
    "- **Mean Squared Error (MSE)**: Measures the average of the squares of the errors between actual and predicted values.\n",
    "- **Mean Absolute Error (MAE)**: Measures the average of the absolute errors between actual and predicted values.\n",
    "- **Root Mean Squared Error (RMSE)**: The square root of the average of the squared differences between actual and predicted values.\n",
    "- **R² Score (Coefficient of Determination)**: Measures the proportion of the variance in the dependent variable that is predictable from the independent variables.\n",
    "\n",
    "#### Part 2: Building and Training the Linear Regression Model\n",
    "\n",
    "Construct a regression model and train it using the diabetes dataset.\n",
    "\n",
    "#### Part 3: Polynomial Regression\n",
    "\n",
    "Create a polynomial regression model and evaluate its accuracy against the linear regression model.\n",
    "\n",
    "#### Part 3: Model Evaluation\n",
    "\n",
    "1. **Scatter Plot**: Compare the predicted values with the actual progression measures using a scatter plot. The x-axis represents the actual values, and the y-axis represents the predicted values.\n",
    "2. **Evaluate the Model**: Evaluate the regression model on the training and testing data using the following functions:\n",
    "   - **MSE**\n",
    "   - **MAE**\n",
    "   - **RMSE**\n",
    "   - **R² Score**\n",
    "\n",
    "Fill in the table with the calculated metrics.\n",
    "\n",
    "| Data Type/Optimizer | MSE  | MAE  | RMSE | R² Score |\n",
    "|---------------------|------|------|------|----------|\n",
    "| Train Set           |      |      |      |          |\n",
    "| Test Set            |      |      |      |          |\n"
   ]
  },
  {
   "cell_type": "markdown",
   "id": "04f3009d-564c-4e71-882c-133d8f76a0e8",
   "metadata": {},
   "source": [
    "#### Warm-Up"
   ]
  },
  {
   "cell_type": "markdown",
   "id": "7d87b742-7c34-4e19-93e3-8aea53c1139e",
   "metadata": {},
   "source": [
    "##### Load the Diabetes Dataset"
   ]
  },
  {
   "cell_type": "code",
   "execution_count": 169,
   "id": "90a2421c",
   "metadata": {
    "id": "90a2421c"
   },
   "outputs": [
    {
     "name": "stdout",
     "output_type": "stream",
     "text": [
      "Shape of Sklearn Diabetes Data: (442, 10)\n"
     ]
    }
   ],
   "source": [
    "import pandas as pd\n",
    "from sklearn.datasets import load_diabetes\n",
    "\n",
    "diabet = load_diabetes(scaled=False)\n",
    "\n",
    "diabetdf = pd.DataFrame(data=diabet.data, columns=diabet.feature_names)\n",
    "\n",
    "diabetes_df['target'] = diabet.target\n",
    "y=diabet.target\n",
    "print(\"Shape of Sklearn Diabetes Data:\", diabetdf.shape)"
   ]
  },
  {
   "cell_type": "markdown",
   "id": "48d838b5-d05e-4f4e-a58f-a5035fad4a2c",
   "metadata": {},
   "source": [
    "##### Display the First Ten Rows"
   ]
  },
  {
   "cell_type": "code",
   "execution_count": 170,
   "id": "a52781fa-38a0-4ae9-a53b-794118259582",
   "metadata": {},
   "outputs": [
    {
     "name": "stdout",
     "output_type": "stream",
     "text": [
      "    age  sex   bmi     bp     s1     s2    s3    s4      s5    s6\n",
      "0  59.0  2.0  32.1  101.0  157.0   93.2  38.0  4.00  4.8598  87.0\n",
      "1  48.0  1.0  21.6   87.0  183.0  103.2  70.0  3.00  3.8918  69.0\n",
      "2  72.0  2.0  30.5   93.0  156.0   93.6  41.0  4.00  4.6728  85.0\n",
      "3  24.0  1.0  25.3   84.0  198.0  131.4  40.0  5.00  4.8903  89.0\n",
      "4  50.0  1.0  23.0  101.0  192.0  125.4  52.0  4.00  4.2905  80.0\n",
      "5  23.0  1.0  22.6   89.0  139.0   64.8  61.0  2.00  4.1897  68.0\n",
      "6  36.0  2.0  22.0   90.0  160.0   99.6  50.0  3.00  3.9512  82.0\n",
      "7  66.0  2.0  26.2  114.0  255.0  185.0  56.0  4.55  4.2485  92.0\n",
      "8  60.0  2.0  32.1   83.0  179.0  119.4  42.0  4.00  4.4773  94.0\n",
      "9  29.0  1.0  30.0   85.0  180.0   93.4  43.0  4.00  5.3845  88.0\n"
     ]
    }
   ],
   "source": [
    "print(diabetdf.head(10))"
   ]
  },
  {
   "cell_type": "markdown",
   "id": "1a9e07d7-8dd7-4b1f-bb4d-fb0cff3588ec",
   "metadata": {},
   "source": [
    "##### Check Data Types"
   ]
  },
  {
   "cell_type": "code",
   "execution_count": 171,
   "id": "cb26c609-6592-4199-8f89-9d2636942a8f",
   "metadata": {},
   "outputs": [
    {
     "name": "stdout",
     "output_type": "stream",
     "text": [
      "<class 'pandas.core.frame.DataFrame'>\n",
      "RangeIndex: 442 entries, 0 to 441\n",
      "Data columns (total 10 columns):\n",
      " #   Column  Non-Null Count  Dtype  \n",
      "---  ------  --------------  -----  \n",
      " 0   age     442 non-null    float64\n",
      " 1   sex     442 non-null    float64\n",
      " 2   bmi     442 non-null    float64\n",
      " 3   bp      442 non-null    float64\n",
      " 4   s1      442 non-null    float64\n",
      " 5   s2      442 non-null    float64\n",
      " 6   s3      442 non-null    float64\n",
      " 7   s4      442 non-null    float64\n",
      " 8   s5      442 non-null    float64\n",
      " 9   s6      442 non-null    float64\n",
      "dtypes: float64(10)\n",
      "memory usage: 34.7 KB\n",
      "None\n"
     ]
    }
   ],
   "source": [
    "print(diabetdf.info())"
   ]
  },
  {
   "cell_type": "markdown",
   "id": "63cd86de-ebcb-414a-a88e-3f3f09189ad9",
   "metadata": {},
   "source": [
    "##### Handle Missing Values"
   ]
  },
  {
   "cell_type": "code",
   "execution_count": 172,
   "id": "5a1f6ac8-1639-4f50-b91c-7a7dfcf882e4",
   "metadata": {},
   "outputs": [
    {
     "name": "stdout",
     "output_type": "stream",
     "text": [
      "[]\n"
     ]
    }
   ],
   "source": [
    "cols_with_missing = [col for col in diabetdf.columns if diabetdf[col].isnull().any()]\n",
    "print(cols_with_missing)\n",
    "# there is no columns with missing data"
   ]
  },
  {
   "cell_type": "markdown",
   "id": "1fb1c7d4-090e-48cb-b125-93ee82b4d5ff",
   "metadata": {},
   "source": [
    "##### Normalize the Features"
   ]
  },
  {
   "cell_type": "code",
   "execution_count": 173,
   "id": "d377bea8-3e75-412e-a6ce-9073a3e8b5bc",
   "metadata": {},
   "outputs": [
    {
     "name": "stdout",
     "output_type": "stream",
     "text": [
      "          age       sex       bmi        bp        s1        s2        s3  \\\n",
      "0    0.800500  1.065488  1.297088  0.459841 -0.929746 -0.732065 -0.912451   \n",
      "1   -0.039567 -0.938537 -1.082180 -0.553505 -0.177624 -0.402886  1.564414   \n",
      "2    1.793307  1.065488  0.934533 -0.119214 -0.958674 -0.718897 -0.680245   \n",
      "3   -1.872441 -0.938537 -0.243771 -0.770650  0.256292  0.525397 -0.757647   \n",
      "4    0.113172 -0.938537 -0.764944  0.459841  0.082726  0.327890  0.171178   \n",
      "..        ...       ...       ...       ...       ...       ...       ...   \n",
      "437  0.876870  1.065488  0.413360  1.256040 -0.119769 -0.053957 -0.602843   \n",
      "438 -0.115937  1.065488 -0.334410 -1.422086  1.037341  1.664355 -0.602843   \n",
      "439  0.876870  1.065488 -0.334410  0.363573 -0.785107 -0.290965 -0.525441   \n",
      "440 -0.956004 -0.938537  0.821235  0.025550  0.343075  0.321306 -0.602843   \n",
      "441 -0.956004 -0.938537 -1.535374 -1.711613  1.760535  0.584649  3.654268   \n",
      "\n",
      "           s4        s5        s6  \n",
      "0   -0.054499  0.418531 -0.370989  \n",
      "1   -0.830301 -1.436589 -1.938479  \n",
      "2   -0.054499  0.060156 -0.545154  \n",
      "3    0.721302  0.476983 -0.196823  \n",
      "4   -0.054499 -0.672502 -0.980568  \n",
      "..        ...       ...       ...  \n",
      "437 -0.054499  0.655787  0.151508  \n",
      "438  0.721302 -0.380819  0.935254  \n",
      "439 -0.232934 -0.985649  0.325674  \n",
      "440  0.558384  0.936163 -0.545154  \n",
      "441 -0.830301 -0.088752  0.064426  \n",
      "\n",
      "[442 rows x 10 columns]\n"
     ]
    }
   ],
   "source": [
    "from sklearn.preprocessing import StandardScaler\n",
    "\n",
    "scaler = StandardScaler()\n",
    "diabet_scaled = scaler.fit_transform(diabetdf)\n",
    "asli = pd.DataFrame(diabet_scaled, columns=diabetdf.columns)\n",
    "print(asli)"
   ]
  },
  {
   "cell_type": "markdown",
   "id": "a6bf2797-bf57-4343-a146-71c4ee8772fe",
   "metadata": {},
   "source": [
    "##### Split the Data"
   ]
  },
  {
   "cell_type": "code",
   "execution_count": 174,
   "id": "7942ef46-5a9c-43b1-a9d6-87a93bad83b3",
   "metadata": {},
   "outputs": [],
   "source": [
    "from sklearn.model_selection import train_test_split\n",
    "\n",
    "X_train, X_valid, y_train, y_valid = train_test_split(asli, y, train_size=0.95, test_size=0.05,random_state=42)"
   ]
  },
  {
   "cell_type": "markdown",
   "id": "90e53f14-05f2-4ca6-a1b9-669bdd0a89f6",
   "metadata": {},
   "source": [
    "##### Confirm the Split"
   ]
  },
  {
   "cell_type": "code",
   "execution_count": 175,
   "id": "33af7986-fabb-4744-a1da-1574520f0d28",
   "metadata": {},
   "outputs": [
    {
     "name": "stdout",
     "output_type": "stream",
     "text": [
      "X_train shape is:  (419, 10)\n",
      "X_valid shape is:  (23, 10)\n",
      "y_train shape is:  (419,)\n",
      "y_valid shape is:  (23,)\n"
     ]
    }
   ],
   "source": [
    "print(\"X_train shape is: \",X_train.shape)\n",
    "print(\"X_valid shape is: \",X_valid.shape)\n",
    "print(\"y_train shape is: \",y_train.shape)\n",
    "print(\"y_valid shape is: \",y_valid.shape)"
   ]
  },
  {
   "cell_type": "markdown",
   "id": "2c53a5ef-be72-4a8d-8bd1-cb52f29318e2",
   "metadata": {},
   "source": [
    "#### Main Task\n"
   ]
  },
  {
   "cell_type": "markdown",
   "id": "78d01475-c956-461c-b778-84cd4d1ab416",
   "metadata": {},
   "source": [
    "##### Part 1: Functions’ Implementation\n",
    "###### Mean Squared Error (MSE)"
   ]
  },
  {
   "cell_type": "code",
   "execution_count": 186,
   "id": "588ec364-22b6-4bca-b699-b04154fbb19f",
   "metadata": {},
   "outputs": [],
   "source": [
    "import numpy as np\n",
    "\n",
    "def msee(y_true, y_pred):\n",
    "    return np.mean((y_true - y_pred) ** 2)"
   ]
  },
  {
   "cell_type": "markdown",
   "id": "f911276e-8c4e-430b-8930-5ec6a56f1801",
   "metadata": {},
   "source": [
    "###### Mean Absolute Error (MAE)"
   ]
  },
  {
   "cell_type": "code",
   "execution_count": 187,
   "id": "c5600672-0dac-4270-956b-6108a8372670",
   "metadata": {},
   "outputs": [],
   "source": [
    "def maee(y_true, y_pred):\n",
    "    return np.mean(np.abs(y_true - y_pred))"
   ]
  },
  {
   "cell_type": "markdown",
   "id": "2685e2b1-100d-44f4-9e6b-9300030c1d28",
   "metadata": {},
   "source": [
    "###### Root Mean Squared Error (RMSE)"
   ]
  },
  {
   "cell_type": "code",
   "execution_count": 188,
   "id": "cebc3e27-1dde-4c63-bc67-ddc38e3bbc24",
   "metadata": {},
   "outputs": [],
   "source": [
    "import math\n",
    "\n",
    "def rmsee(y_true, y_pred):\n",
    "    return np.sqrt(np.mean((y_true - y_pred) ** 2))"
   ]
  },
  {
   "cell_type": "markdown",
   "id": "67488892-822a-44d7-861e-4a7ed81425a0",
   "metadata": {},
   "source": [
    "###### R² Score (Coefficient of Determination)"
   ]
  },
  {
   "cell_type": "code",
   "execution_count": 189,
   "id": "f505ca12-aeb0-4ed3-96ec-d6549ac82d0c",
   "metadata": {},
   "outputs": [],
   "source": [
    "def r2e(y_true, y_pred):\n",
    "    ss_tot = np.sum((y_true - np.mean(y_true)) ** 2)\n",
    "    ss_res = np.sum((y_true - y_pred) ** 2)\n",
    "    return 1 - (ss_res / ss_tot)"
   ]
  },
  {
   "cell_type": "markdown",
   "id": "e499caab-dc8d-4a15-be68-30b94fc771ab",
   "metadata": {},
   "source": [
    "##### Part 2: Building and Training the Linear Regression Model\n"
   ]
  },
  {
   "cell_type": "code",
   "execution_count": 199,
   "id": "165024b2-3a75-4a71-8a87-1993b8cdb523",
   "metadata": {},
   "outputs": [
    {
     "name": "stdout",
     "output_type": "stream",
     "text": [
      "Mean Squared Error: 3516.1108664162234\n",
      "Mean Absolute Error: 49.27832027864406\n",
      "Root Mean Squared Error:: 59.29680317197735\n",
      "R-squared: 0.5163792932946591\n"
     ]
    }
   ],
   "source": [
    "import matplotlib.pyplot as plt\n",
    "from sklearn.linear_model import LinearRegression\n",
    "from sklearn.metrics import *\n",
    "\n",
    "model = LinearRegression()\n",
    "model.fit(X_train, y_train)\n",
    "\n",
    "y_pred = model.predict(X_valid)\n",
    "\n",
    "mse = mean_squared_error(y_valid, y_pred)\n",
    "r2 = r2_score(y_valid, y_pred)\n",
    "mae = mean_absolute_error(y_valid, y_pred)\n",
    "rmse = root_mean_squared_error(y_valid, y_pred)\n",
    "\n",
    "#true value\n",
    "print(\"Mean Squared Error:\", mse)\n",
    "print(\"Mean Absolute Error:\", mae)\n",
    "print(\"Root Mean Squared Error::\", rmse)\n",
    "print(\"R-squared:\", r2)"
   ]
  },
  {
   "cell_type": "code",
   "execution_count": 200,
   "id": "700191f2-79b7-47ac-9570-8ee3bbcc9d00",
   "metadata": {},
   "outputs": [
    {
     "data": {
      "image/png": "[encoded data removed]",
      "text/plain": [
       "<Figure size 640x480 with 1 Axes>"
      ]
     },
     "metadata": {},
     "output_type": "display_data"
    }
   ],
   "source": [
    "plt.scatter(y_valid, y_pred)\n",
    "plt.xlabel(\"Actual Values\")\n",
    "plt.ylabel(\"Predicted Values\")\n",
    "plt.title(\"Predicted vs Actual Values\")\n",
    "plt.grid(True)\n",
    "plt.show()"
   ]
  },
  {
   "cell_type": "code",
   "execution_count": 203,
   "id": "ce9c3ad0-188b-4b3e-8fa5-ade1360d9d8b",
   "metadata": {},
   "outputs": [
    {
     "name": "stdout",
     "output_type": "stream",
     "text": [
      "Mean Squared Error: 3516.1108664162234\n",
      "Mean Absolute Error: 49.27832027864406\n",
      "Root Mean Squared Error:: 59.29680317197735\n",
      "R-squared: 0.5163792932946591\n"
     ]
    }
   ],
   "source": [
    "#scratch function value\n",
    "mse2 = msee(y_valid, y_pred)\n",
    "mae2 = maee(y_valid, y_pred)\n",
    "rmse2 = rmsee(y_valid, y_pred)\n",
    "r22 = r2e(y_valid, y_pred)\n",
    "\n",
    "\n",
    "print(\"Mean Squared Error:\", mse2)\n",
    "print(\"Mean Absolute Error:\", mae2)\n",
    "print(\"Root Mean Squared Error::\", rmse2)\n",
    "print(\"R-squared:\", r22)"
   ]
  },
  {
   "cell_type": "markdown",
   "id": "841ab004-27ac-4aff-91ec-f006299e55f5",
   "metadata": {},
   "source": [
    "##### Part 3: Polynomial Regression"
   ]
  },
  {
   "cell_type": "code",
   "execution_count": 205,
   "id": "00c3ac5b-4c0d-4825-8a41-fb9f9a88af28",
   "metadata": {},
   "outputs": [
    {
     "name": "stdout",
     "output_type": "stream",
     "text": [
      "Mean Squared Error: 4231.299534673276\n",
      "Mean Absolute Error: 50.05757472826087\n",
      "Root Mean Squared Error:: 65.04843990960333\n",
      "R-squared: 0.4180092298038387\n"
     ]
    }
   ],
   "source": [
    "poly = PolynomialFeatures(degree=2)\n",
    "X_train_poly = poly.fit_transform(X_train)\n",
    "X_test_poly = poly.transform(X_valid)\n",
    "\n",
    "\n",
    "model = LinearRegression()\n",
    "model.fit(X_train_poly, y_train)\n",
    "\n",
    "# Make predictions\n",
    "y_pred = model.predict(X_test_poly)\n",
    "\n",
    "# Evaluate the model\n",
    "mse = mean_squared_error(y_valid, y_pred)\n",
    "r2 = r2_score(y_valid, y_pred)\n",
    "mae = mean_absolute_error(y_valid, y_pred)\n",
    "rmse = root_mean_squared_error(y_valid, y_pred)\n",
    "\n",
    "#true value\n",
    "print(\"Mean Squared Error:\", mse)\n",
    "print(\"Mean Absolute Error:\", mae)\n",
    "print(\"Root Mean Squared Error::\", rmse)\n",
    "print(\"R-squared:\", r2)"
   ]
  },
  {
   "cell_type": "code",
   "execution_count": 206,
   "id": "04264beb-bc7a-442b-89bf-14c2c217e425",
   "metadata": {},
   "outputs": [
    {
     "name": "stdout",
     "output_type": "stream",
     "text": [
      "Mean Squared Error: 4231.299534673276\n",
      "Mean Absolute Error: 50.05757472826087\n",
      "Root Mean Squared Error:: 65.04843990960333\n",
      "R-squared: 0.4180092298038387\n"
     ]
    }
   ],
   "source": [
    "#scratch function value\n",
    "mse2 = msee(y_valid, y_pred)\n",
    "mae2 = maee(y_valid, y_pred)\n",
    "rmse2 = rmsee(y_valid, y_pred)\n",
    "r22 = r2e(y_valid, y_pred)\n",
    "\n",
    "print(\"Mean Squared Error:\", mse2)\n",
    "print(\"Mean Absolute Error:\", mae2)\n",
    "print(\"Root Mean Squared Error::\", rmse2)\n",
    "print(\"R-squared:\", r22)"
   ]
  },
  {
   "cell_type": "code",
   "execution_count": 185,
   "id": "6016139c-a2f6-4e9c-9bc9-017c781b9036",
   "metadata": {},
   "outputs": [
    {
     "data": {
      "image/png": "[encoded data removed]",
      "text/plain": [
       "<Figure size 640x480 with 1 Axes>"
      ]
     },
     "metadata": {},
     "output_type": "display_data"
    }
   ],
   "source": [
    "plt.scatter(y_valid, y_pred)\n",
    "plt.xlabel(\"Actual Values\")\n",
    "plt.ylabel(\"Predicted Values\")\n",
    "plt.title(\"Predicted vs Actual Values\")\n",
    "plt.grid(True)\n",
    "plt.show()"
   ]
  },
  {
   "cell_type": "markdown",
   "id": "9a36e41b-5ba9-48df-8d16-4278a379a21c",
   "metadata": {},
   "source": [
    "###### Evaluate the Model"
   ]
  },
  {
   "cell_type": "code",
   "execution_count": null,
   "id": "3498f4b0-38a6-40f1-a729-25b6ff92c346",
   "metadata": {},
   "outputs": [],
   "source": []
  }
 ],
 "metadata": {
  "colab": {
   "provenance": []
  },
  "kernelspec": {
   "display_name": "Python 3 (ipykernel)",
   "language": "python",
   "name": "python3"
  },
  "language_info": {
   "codemirror_mode": {
    "name": "ipython",
    "version": 3
   },
   "file_extension": ".py",
   "mimetype": "text/x-python",
   "name": "python",
   "nbconvert_exporter": "python",
   "pygments_lexer": "ipython3",
   "version": "3.12.4"
  }
 },
 "nbformat": 4,
 "nbformat_minor": 5
}
