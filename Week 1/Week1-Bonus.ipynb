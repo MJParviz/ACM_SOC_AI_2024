{
 "cells": [
  {
   "cell_type": "markdown",
   "id": "bd6e295f-c770-455a-a1a1-c3feecbc6ef6",
   "metadata": {},
   "source": [
    "<h2 style=\"color: green\">PI caculation</h2>\n"
   ]
  },
  {
   "cell_type": "code",
   "execution_count": 44,
   "id": "6d5c637f-fbf9-40a9-8a4d-e01841892aff",
   "metadata": {},
   "outputs": [
    {
     "name": "stdout",
     "output_type": "stream",
     "text": [
      "3.141512\n"
     ]
    }
   ],
   "source": [
    "import random\n",
    "counter_cir=0\n",
    "point_number=10**6\n",
    "for i in range(point_number):\n",
    "    pos_x=random.uniform(-1,1)\n",
    "    pos_y=random.uniform(-1,1)\n",
    "    if pos_x**2+pos_y**2<=1:\n",
    "        counter_cir+=1\n",
    "print(4*float(counter_cir/point_number))"
   ]
  },
  {
   "cell_type": "markdown",
   "id": "85ae0821-014d-4b95-b994-9b5dbcc60190",
   "metadata": {},
   "source": [
    "<h2 style=\"color: green\">Mensch Game</h2>\n"
   ]
  },
  {
   "cell_type": "code",
   "execution_count": 40,
   "id": "53de5f45-2ad1-4c74-8f3b-196a87de7341",
   "metadata": {},
   "outputs": [
    {
     "name": "stdout",
     "output_type": "stream",
     "text": [
      "chance of player 1 wining is: 0.2628\n",
      "chance of player 2 wining is: 0.2546\n",
      "chance of player 3 wining is: 0.2447\n",
      "chance of player 4 wining is: 0.2379\n"
     ]
    }
   ],
   "source": [
    "import random\n",
    "end_pos=43\n",
    "total_number_of_play=10**4\n",
    "players_wining_num=[0,0,0,0]\n",
    "for k in range(total_number_of_play):\n",
    "    players_poses=[0,0,0,0]\n",
    "    is_game_over=False\n",
    "    i=0\n",
    "    while(not(is_game_over)):\n",
    "        i%=4\n",
    "        dice_num=random.randrange(6)+1\n",
    "        if players_poses[i]+dice_num<=end_pos:\n",
    "            players_poses[i]+=dice_num\n",
    "            for j in range(4):\n",
    "                if i==j:\n",
    "                    continue\n",
    "                elif players_poses[i]==players_poses[j]:\n",
    "                    players_poses[j]=0\n",
    "        if players_poses[i]==end_pos:\n",
    "            is_game_over=True\n",
    "            players_wining_num[i]+=1\n",
    "        i+=1\n",
    "for i in range(len(players_wining_num)):\n",
    "    probeblity=players_wining_num[i]/total_number_of_play\n",
    "    print(f\"chance of player {i+1} wining is: {probeblity}\")"
   ]
  }
 ],
 "metadata": {
  "kernelspec": {
   "display_name": "Python 3 (ipykernel)",
   "language": "python",
   "name": "python3"
  },
  "language_info": {
   "codemirror_mode": {
    "name": "ipython",
    "version": 3
   },
   "file_extension": ".py",
   "mimetype": "text/x-python",
   "name": "python",
   "nbconvert_exporter": "python",
   "pygments_lexer": "ipython3",
   "version": "3.12.4"
  }
 },
 "nbformat": 4,
 "nbformat_minor": 5
}
